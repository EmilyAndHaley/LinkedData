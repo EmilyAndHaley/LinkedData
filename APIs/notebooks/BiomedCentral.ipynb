{
 "metadata": {
  "name": "",
  "signature": "sha256:87f7f64b3738f1bdf21ecac2109fbcb1a054a4713dd56073bcba90d4825066c0"
 },
 "nbformat": 3,
 "nbformat_minor": 0,
 "worksheets": [
  {
   "cells": [
    {
     "cell_type": "markdown",
     "metadata": {},
     "source": [
      "First we import some libraries that we will need"
     ]
    },
    {
     "cell_type": "code",
     "collapsed": false,
     "input": [
      "# utility to read json format\n",
      "import json as js\n",
      "# another library for json data\n",
      "import simplejson\n",
      "\n",
      "# urllib2 is a module for fetching URL (Uniform Resource Locator) data\n",
      "import urllib2 as ulib"
     ],
     "language": "python",
     "metadata": {},
     "outputs": [],
     "prompt_number": 1
    },
    {
     "cell_type": "markdown",
     "metadata": {},
     "source": [
      "In this step we retrieve the data and load it as json"
     ]
    },
    {
     "cell_type": "code",
     "collapsed": false,
     "input": [
      "# form a request\n",
      "\n",
      "searchterm='Atypical+Rett+Syndrome'\n",
      "#searchterm='Short+Bowel+Syndrome'\n",
      "\n",
      "request_string='http://www.biomedcentral.com/search/results?terms='+searchterm+'&format=json'\n",
      "\n",
      "response=ulib.urlopen(request_string)\n",
      "\n",
      "# no guarentee what will come back\n",
      "print type(response)\n",
      "\n",
      "# load as json\n",
      "biomed_data=simplejson.load(response)\n",
      "\n",
      "print type(biomed_data)"
     ],
     "language": "python",
     "metadata": {},
     "outputs": [
      {
       "output_type": "stream",
       "stream": "stdout",
       "text": [
        "<type 'instance'>\n",
        "<type 'dict'>"
       ]
      },
      {
       "output_type": "stream",
       "stream": "stdout",
       "text": [
        "\n"
       ]
      }
     ],
     "prompt_number": 6
    },
    {
     "cell_type": "code",
     "collapsed": false,
     "input": [
      "print biomed_data"
     ],
     "language": "python",
     "metadata": {},
     "outputs": [
      {
       "output_type": "stream",
       "stream": "stdout",
       "text": [
        "{u'entries': [{u'authorNames': u'        \\n    <span class=\"author-names\">        Wegiel J, Flory M, Kuchna I, Nowicki K, Ma SY, Imaki H, Wegiel J, Frackowiak J <em>et al.</em></span>\\n    ', u'bibliograhyTitle': u'<p>Neuronal nucleus and cytoplasm volume deficit in children with autism and volume increase in adolescents and adults</p>', u'doi': u'10.1186/s40478-015-0183-5', u'longCitation': u'<em>Acta Neuropathologica Communications</em> 2015, <strong>3</strong>:2', u'imageUrl': u'/content/figures/s40478-015-0183-5-toc.gif', u'blurbText': u'', u'isHighlyAccessed': u'false', u'status': u'LIVE', u'articleFullUrl': u'http://www.actaneurocomms.org/content/3/1/2', u'abstractPath': u'http://www.actaneurocomms.org/content/3/1/2/abstract', u'isFree': u'true', u'blurbTitle': u'', u'published Date': u'2015-01-17', u'arxId': u's40478-015-0183-5', u'isOpenAccess': u'true', u'articleUrl': u'/content/3/1/2', u'type': u'research article', u'journal Id': u'10386'}, {u'authorNames': u'        \\n    <span class=\"author-names\">    Fernell E, Bejerot S, Westerlund J, Miniscalco C, Simila H, Eyles D, Gillberg C and Humble MB</span>\\n    ', u'bibliograhyTitle': u'<p>Autism spectrum disorder and low vitamin D at birth: a sibling control study</p>', u'doi': u'', u'longCitation': u'<em>Molecular Autism</em> 2015, <strong>6</strong>:3', u'imageUrl': u'/content/figures/2040-2392-6-3-toc.gif', u'blurbText': u'', u'isHighlyAccessed': u'false', u'status': u'LIVE', u'articleFullUrl': u'http://www.molecularautism.com/content/6/1/3', u'abstractPath': u'http://www.molecularautism.com/content/6/1/3/abstract', u'isFree': u'true', u'blurbTitle': u'', u'published Date': u'2015-01-14', u'arxId': u'2040-2392-6-3', u'isOpenAccess': u'true', u'articleUrl': u'/content/6/1/3', u'type': u'research', u'journal Id': u'10181'}, {u'authorNames': u'        \\n    <span class=\"author-names\">    Fehr S, Leonard H, Ho G, Williams S, de Klerk N, Forbes D, Christodoulou J and Downs J</span>\\n    ', u'bibliograhyTitle': u'<p>There is variability in the attainment of developmental milestones in the CDKL5 disorder</p>', u'doi': u'', u'longCitation': u'<em>Journal of Neurodevelopmental Disorders</em> 2015, <strong>7</strong>:2', u'imageUrl': u'/content/figures/1866-1955-7-2-toc.gif', u'blurbText': u'', u'isHighlyAccessed': u'false', u'status': u'LIVE', u'articleFullUrl': u'http://www.jneurodevdisorders.com/content/7/1/2', u'abstractPath': u'http://www.jneurodevdisorders.com/content/7/1/2/abstract', u'isFree': u'true', u'blurbTitle': u'', u'published Date': u'2015-01-05', u'arxId': u'1866-1955-7-2', u'isOpenAccess': u'true', u'articleUrl': u'/content/7/1/2', u'type': u'research', u'journal Id': u'10271'}, {u'authorNames': u'        \\n    <span class=\"author-names\">        Kolevzon A, Bush L, Wang AT, Halpern D, Frank Y, Grodberg D, Rapaport R, Tavassoli T <em>et al.</em></span>\\n    ', u'bibliograhyTitle': u'<p>A pilot controlled trial of insulin-like growth factor-1 in children with Phelan-McDermid syndrome</p>', u'doi': u'', u'longCitation': u'<em>Molecular Autism</em> 2014, <strong>5</strong>:54', u'imageUrl': u'/content/figures/2040-2392-5-54-toc.gif', u'blurbText': u'', u'isHighlyAccessed': u'false', u'status': u'LIVE', u'articleFullUrl': u'http://www.molecularautism.com/content/5/1/54', u'abstractPath': u'http://www.molecularautism.com/content/5/1/54/abstract', u'isFree': u'true', u'blurbTitle': u'', u'published Date': u'2014-12-12', u'arxId': u'2040-2392-5-54', u'isOpenAccess': u'true', u'articleUrl': u'/content/5/1/54', u'type': u'research', u'journal Id': u'10181'}, {u'authorNames': u'        \\n    <span class=\"author-names\">        Di Gregorio E, Savin E, Biamino E, Belligni EF, Naretto VG, D\\u2019Alessandro G, Gai G, Fiocchi F <em>et al.</em></span>\\n    ', u'bibliograhyTitle': u'<p>Large cryptic genomic rearrangements with apparently normal karyotypes detected by array-CGH</p>', u'doi': u'10.1186/s13039-014-0082-7', u'longCitation': u'<em>Molecular Cytogenetics</em> 2014, <strong>7</strong>:82', u'imageUrl': u'/content/figures/s13039-014-0082-7-toc.gif', u'blurbText': u'', u'isHighlyAccessed': u'false', u'status': u'LIVE', u'articleFullUrl': u'http://www.molecularcytogenetics.org/content/7/1/82', u'abstractPath': u'http://www.molecularcytogenetics.org/content/7/1/82/abstract', u'isFree': u'true', u'blurbTitle': u'', u'published Date': u'2014-11-19', u'arxId': u's13039-014-0082-7', u'isOpenAccess': u'true', u'articleUrl': u'/content/7/1/82', u'type': u'research', u'journal Id': u'10144'}, {u'authorNames': u'        \\n    <span class=\"author-names\">    Clouaire T, Webb S and Bird A</span>\\n    ', u'bibliograhyTitle': u'<p>Cfp1 is required for gene expression-dependent H3K4 trimethylation and H3K9 acetylation in embryonic stem cells</p>', u'doi': u'10.1186/s13059-014-0451-x', u'longCitation': u'<em>Genome Biology</em> 2014, <strong>15</strong>:451', u'imageUrl': u'/content/figures/s13059-014-0451-x-toc.gif', u'blurbText': u'Cfp1 crucially targets H3K4me3 to promoters and contributes to global H3K9 acetylation and is key in establishing active promoter chromatin states', u'isHighlyAccessed': u'false', u'status': u'LIVE', u'articleFullUrl': u'http://genomebiology.com/2014/15/9/451', u'abstractPath': u'http://genomebiology.com/2014/15/9/451/abstract', u'isFree': u'true', u'blurbTitle': u'Cfp1 dependent acetylation', u'published Date': u'2014-09-04', u'arxId': u's13059-014-0451-x', u'isOpenAccess': u'true', u'articleUrl': u'/2014/15/9/451', u'type': u'research', u'journal Id': u'3001'}, {u'authorNames': u'        \\n    <span class=\"author-names\">    Gomes MB and Negrato CA</span>\\n    ', u'bibliograhyTitle': u'<p>Alpha-lipoic acid as a pleiotropic compound with potential therapeutic use in diabetes and other chronic diseases</p>', u'doi': u'10.1186/1758-5996-6-80', u'longCitation': u'<em>Diabetology & Metabolic Syndrome</em> 2014, <strong>6</strong>:80', u'imageUrl': u'/content/figures/1758-5996-6-80-toc.gif', u'blurbText': u'', u'isHighlyAccessed': u'false', u'status': u'LIVE', u'articleFullUrl': u'http://www.dmsjournal.com/content/6/1/80', u'abstractPath': u'http://www.dmsjournal.com/content/6/1/80/abstract', u'isFree': u'true', u'blurbTitle': u'', u'published Date': u'2014-07-28', u'arxId': u'1758-5996-6-80', u'isOpenAccess': u'true', u'articleUrl': u'/content/6/1/80', u'type': u'research', u'journal Id': u'10175'}, {u'authorNames': u'        \\n    <span class=\"author-names\">        Neul JL, Lane JB, Lee HS, Geerts S, Barrish JO, Annese F, Baggett LMN, Barnes K <em>et al.</em></span>\\n    ', u'bibliograhyTitle': u'<p>Developmental delay in Rett syndrome: data from the natural history study</p>', u'doi': u'10.1186/1866-1955-6-20', u'longCitation': u'<em>Journal of Neurodevelopmental Disorders</em> 2014, <strong>6</strong>:20', u'imageUrl': u'/content/figures/1866-1955-6-20-toc.gif', u'blurbText': u'', u'isHighlyAccessed': u'false', u'status': u'LIVE', u'articleFullUrl': u'http://www.jneurodevdisorders.com/content/6/1/20', u'abstractPath': u'http://www.jneurodevdisorders.com/content/6/1/20/abstract', u'isFree': u'true', u'blurbTitle': u'', u'published Date': u'2014-07-22', u'arxId': u'1866-1955-6-20', u'isOpenAccess': u'true', u'articleUrl': u'/content/6/1/20', u'type': u'research', u'journal Id': u'10271'}, {u'authorNames': u'        \\n    <span class=\"author-names\">    Poliakov E, Koonin EV and Rogozin IB</span>\\n    ', u'bibliograhyTitle': u'<p>Impairment of translation in neurons as a putative causative factor for autism</p>', u'doi': u'10.1186/1745-6150-9-16', u'longCitation': u'<em>Biology Direct</em> 2014, <strong>9</strong>:16', u'imageUrl': u'/content/figures/1745-6150-9-16-toc.gif', u'blurbText': u'Silent mutations associated with autism cause a significant shift from optimal to suboptimal codons.', u'isHighlyAccessed': u'true', u'status': u'LIVE', u'articleFullUrl': u'http://www.biologydirect.com/content/9/1/16', u'abstractPath': u'http://www.biologydirect.com/content/9/1/16/abstract', u'isFree': u'true', u'blurbTitle': u'', u'published Date': u'2014-07-10', u'arxId': u'1745-6150-9-16', u'isOpenAccess': u'true', u'articleUrl': u'/content/9/1/16', u'type': u'hypothesis', u'journal Id': u'10078'}, {u'authorNames': u'        \\n    <span class=\"author-names\">        Pinto IP, Minasi LB, da Cruz AS, de Melo AV, da Cruz e Cunha DM, Pereira RR, Ribeiro CL, da Silva CC <em>et al.</em></span>\\n    ', u'bibliograhyTitle': u'<p>A non-syndromic intellectual disability associated with a <it>de novo</it> microdeletion at 7q and 18p, microduplication at Xp, and 18q partial trisomy detected using chromosomal microarray analysis approach</p>', u'doi': u'10.1186/1755-8166-7-44', u'longCitation': u'<em>Molecular Cytogenetics</em> 2014, <strong>7</strong>:44', u'imageUrl': u'/content/figures/1755-8166-7-44-toc.gif', u'blurbText': u'', u'isHighlyAccessed': u'true', u'status': u'LIVE', u'articleFullUrl': u'http://www.molecularcytogenetics.org/content/7/1/44', u'abstractPath': u'http://www.molecularcytogenetics.org/content/7/1/44/abstract', u'isFree': u'true', u'blurbTitle': u'', u'published Date': u'2014-06-27', u'arxId': u'1755-8166-7-44', u'isOpenAccess': u'true', u'articleUrl': u'/content/7/1/44', u'type': u'case report', u'journal Id': u'10144'}, {u'authorNames': u'        \\n    <span class=\"author-names\">    Bailus BJ and Segal DJ</span>\\n    ', u'bibliograhyTitle': u'<p>The prospect of molecular therapy for Angelman syndrome and other monogenic neurologic disorders</p>', u'doi': u'10.1186/1471-2202-15-76', u'longCitation': u'<em>BMC Neuroscience</em> 2014, <strong>15</strong>:76', u'imageUrl': u'/content/figures/1471-2202-15-76-toc.gif', u'blurbText': u'', u'isHighlyAccessed': u'true', u'status': u'LIVE', u'articleFullUrl': u'http://www.biomedcentral.com/1471-2202/15/76', u'abstractPath': u'http://www.biomedcentral.com/1471-2202/15/76/abstract', u'isFree': u'true', u'blurbTitle': u'', u'published Date': u'2014-06-19', u'arxId': u'1471-2202-15-76', u'isOpenAccess': u'true', u'articleUrl': u'/1471-2202/15/76', u'type': u'review', u'journal Id': u'1012'}, {u'authorNames': u'        \\n    <span class=\"author-names\">        Strom SP, Lozano R, Lee H, Dorrani N, Mann J, O\\u2019Lague PF, Mans N, Deignan JL <em>et al.</em></span>\\n    ', u'bibliograhyTitle': u'<p>\\n<it>De Novo</it> variants in the <it>KMT2A</it> (<it>MLL</it>) gene causing atypical Wiedemann-Steiner syndrome in two unrelated individuals identified by clinical exome sequencing</p>', u'doi': u'10.1186/1471-2350-15-49', u'longCitation': u'<em>BMC Medical Genetics</em> 2014, <strong>15</strong>:49', u'imageUrl': u'/content/figures/1471-2350-15-49-toc.gif', u'blurbText': u'', u'isHighlyAccessed': u'true', u'status': u'LIVE', u'articleFullUrl': u'http://www.biomedcentral.com/1471-2350/15/49', u'abstractPath': u'http://www.biomedcentral.com/1471-2350/15/49/abstract', u'isFree': u'true', u'blurbTitle': u'', u'published Date': u'2014-05-01', u'arxId': u'1471-2350-15-49', u'isOpenAccess': u'true', u'articleUrl': u'/1471-2350/15/49', u'type': u'case report', u'journal Id': u'2014'}, {u'authorNames': u'        \\n    <span class=\"author-names\">        Fern\\xe1ndez-Marmiesse A, Morey M, Pineda M, Eiris J, Couce ML, Castro-Gago M, Fraga JM, Lacerda L <em>et al.</em></span>\\n    ', u'bibliograhyTitle': u'<p>Assessment of a targeted resequencing assay as a support tool in the diagnosis of lysosomal storage disorders</p>', u'doi': u'10.1186/1750-1172-9-59', u'longCitation': u'<em>Orphanet Journal of Rare Diseases</em> 2014, <strong>9</strong>:59', u'imageUrl': u'/content/figures/1750-1172-9-59-toc.gif', u'blurbText': u'', u'isHighlyAccessed': u'false', u'status': u'LIVE', u'articleFullUrl': u'http://www.ojrd.com/content/9/1/59', u'abstractPath': u'http://www.ojrd.com/content/9/1/59/abstract', u'isFree': u'true', u'blurbTitle': u'', u'published Date': u'2014-04-25', u'arxId': u'1750-1172-9-59', u'isOpenAccess': u'true', u'articleUrl': u'/content/9/1/59', u'type': u'research', u'journal Id': u'10108'}, {u'authorNames': u'        \\n    <span class=\"author-names\">        Zhao Y, Zhang X, Bao X, Zhang Q, Zhang J, Cao G, Zhang J, Li J <em>et al.</em></span>\\n    ', u'bibliograhyTitle': u'<p>Clinical features and gene mutational spectrum of <it>CDKL5</it>-related diseases in a cohort of Chinese patients</p>', u'doi': u'10.1186/1471-2350-15-24', u'longCitation': u'<em>BMC Medical Genetics</em> 2014, <strong>15</strong>:24', u'imageUrl': u'/content/figures/1471-2350-15-24-toc.gif', u'blurbText': u'', u'isHighlyAccessed': u'true', u'status': u'LIVE', u'articleFullUrl': u'http://www.biomedcentral.com/1471-2350/15/24', u'abstractPath': u'http://www.biomedcentral.com/1471-2350/15/24/abstract', u'isFree': u'true', u'blurbTitle': u'', u'published Date': u'2014-02-25', u'arxId': u'1471-2350-15-24', u'isOpenAccess': u'true', u'articleUrl': u'/1471-2350/15/24', u'type': u'research article', u'journal Id': u'2014'}, {u'authorNames': u'        \\n    <span class=\"author-names\">    Nyffeler J, Walitza S, Bobrowski E, Gundelfinger R and Gr\\xfcnblatt E</span>\\n    ', u'bibliograhyTitle': u'<p>Association study in siblings and case-controls of serotonin- and oxytocin-related genes with high functioning autism</p>', u'doi': u'', u'longCitation': u'<em>Journal of Molecular Psychiatry</em> 2014, <strong>2</strong>:1', u'imageUrl': u'/content/figures/2049-9256-2-1-toc.gif', u'blurbText': u'', u'isHighlyAccessed': u'false', u'status': u'LIVE', u'articleFullUrl': u'http://www.jmolecularpsychiatry.com/content/2/1/1', u'abstractPath': u'http://www.jmolecularpsychiatry.com/content/2/1/1/abstract', u'isFree': u'true', u'blurbTitle': u'', u'published Date': u'2014-01-24', u'arxId': u'2049-9256-2-1', u'isOpenAccess': u'true', u'articleUrl': u'/content/2/1/1', u'type': u'research article', u'journal Id': u'10353'}, {u'authorNames': u'        \\n    <span class=\"author-names\">        Scheid I, Maruani A, Huguet G, Leblond CS, Nygren G, Anckars\\xe4ter H, Beggiato A, Rastam M <em>et al.</em></span>\\n    ', u'bibliograhyTitle': u'<p>Heterozygous FA2H mutations in autism spectrum disorders</p>', u'doi': u'10.1186/1471-2350-14-124', u'longCitation': u'<em>BMC Medical Genetics</em> 2013, <strong>14</strong>:124', u'imageUrl': u'/content/figures/1471-2350-14-124-toc.gif', u'blurbText': u'', u'isHighlyAccessed': u'true', u'status': u'LIVE', u'articleFullUrl': u'http://www.biomedcentral.com/1471-2350/14/124', u'abstractPath': u'http://www.biomedcentral.com/1471-2350/14/124/abstract', u'isFree': u'true', u'blurbTitle': u'', u'published Date': u'2013-12-03', u'arxId': u'1471-2350-14-124', u'isOpenAccess': u'true', u'articleUrl': u'/1471-2350/14/124', u'type': u'research article', u'journal Id': u'2014'}, {u'authorNames': u'        \\n    <span class=\"author-names\">    Iourov IY, Vorsanova SG, Voinova VY, Kurinnaia OS, Zelenova MA, Demidova IA and Yurov YB</span>\\n    ', u'bibliograhyTitle': u'<p>Xq28 (MECP2) microdeletions are common in mutation-negative females with Rett syndrome and cause mild subtypes of the disease</p>', u'doi': u'10.1186/1755-8166-6-53', u'longCitation': u'<em>Molecular Cytogenetics</em> 2013, <strong>6</strong>:53', u'imageUrl': u'/content/figures/1755-8166-6-53-toc.gif', u'blurbText': u'<p>Regardless of its monogenic nature, Rett syndrome (RTT) is shown for the first time to be caused by Xq28 (MECP2) deletions. Affecting nearly 25% of \"mutation-negative\" RTT patients, Xq28 deletions appear to be common among females exhibiting RTT or RTT-like phenotypes.</p>', u'isHighlyAccessed': u'true', u'status': u'LIVE', u'articleFullUrl': u'http://www.molecularcytogenetics.org/content/6/1/53', u'abstractPath': u'http://www.molecularcytogenetics.org/content/6/1/53/abstract', u'isFree': u'true', u'blurbTitle': u'<p>A new (molecular cytogenetic) cause of Rett syndrome</p>', u'published Date': u'2013-11-27', u'arxId': u'1755-8166-6-53', u'isOpenAccess': u'true', u'articleUrl': u'/content/6/1/53', u'type': u'research', u'journal Id': u'10144'}, {u'authorNames': u'        \\n    <span class=\"author-names\">    DaRe JT, Vasta V, Penn J, Tran NTB and Hahn SH</span>\\n    ', u'bibliograhyTitle': u'<p>Targeted exome sequencing for mitochondrial disorders reveals high genetic heterogeneity</p>', u'doi': u'10.1186/1471-2350-14-118', u'longCitation': u'<em>BMC Medical Genetics</em> 2013, <strong>14</strong>:118', u'imageUrl': u'/content/figures/1471-2350-14-118-toc.gif', u'blurbText': u'<p>Genetic diagnosis of patients with suspected mitochondrial disorders using next generation sequencing finds great underlying genetics heterogeneity and that the majority did not have direct impairment of energy production, underlining the difficulties with traditional biochemical analysis.</p>', u'isHighlyAccessed': u'true', u'status': u'LIVE', u'articleFullUrl': u'http://www.biomedcentral.com/1471-2350/14/118', u'abstractPath': u'http://www.biomedcentral.com/1471-2350/14/118/abstract', u'isFree': u'true', u'blurbTitle': u'<p>Mitochondrial disease diagnosis with NGS</p>', u'published Date': u'2013-11-11', u'arxId': u'1471-2350-14-118', u'isOpenAccess': u'true', u'articleUrl': u'/1471-2350/14/118', u'type': u'research article', u'journal Id': u'2014'}, {u'authorNames': u'        \\n    <span class=\"author-names\">    Maqbool A, Lattke M, Wirth T and Baumann B</span>\\n    ', u'bibliograhyTitle': u'<p>Sustained, neuron-specific IKK/NF-&#954;B activation generates a selective neuroinflammatory response promoting local neurodegeneration with aging</p>', u'doi': u'10.1186/1750-1326-8-40', u'longCitation': u'<em>Molecular Neurodegeneration</em> 2013, <strong>8</strong>:40', u'imageUrl': u'/content/figures/1750-1326-8-40-toc.gif', u'blurbText': u'', u'isHighlyAccessed': u'false', u'status': u'LIVE', u'articleFullUrl': u'http://www.molecularneurodegeneration.com/content/8/1/40', u'abstractPath': u'http://www.molecularneurodegeneration.com/content/8/1/40/abstract', u'isFree': u'true', u'blurbTitle': u'', u'published Date': u'2013-10-12', u'arxId': u'1750-1326-8-40', u'isOpenAccess': u'true', u'articleUrl': u'/content/8/1/40', u'type': u'research article', u'journal Id': u'10111'}, {u'authorNames': u'        \\n    <span class=\"author-names\">    Bagga JS and D\\u2019Antonio LA</span>\\n    ', u'bibliograhyTitle': u'<p>Role of conserved <it>cis</it>-regulatory elements in the post-transcriptional regulation of the human MECP2 gene involved in autism</p>', u'doi': u'10.1186/1479-7364-7-19', u'longCitation': u'<em>Human Genomics</em> 2013, <strong>7</strong>:19', u'imageUrl': u'/content/figures/1479-7364-7-19-toc.gif', u'blurbText': u'', u'isHighlyAccessed': u'true', u'status': u'LIVE', u'articleFullUrl': u'http://www.humgenomics.com/content/7/1/19', u'abstractPath': u'http://www.humgenomics.com/content/7/1/19/abstract', u'isFree': u'true', u'blurbTitle': u'', u'published Date': u'2013-09-16', u'arxId': u'1479-7364-7-19', u'isOpenAccess': u'true', u'articleUrl': u'/content/7/1/19', u'type': u'primary research', u'journal Id': u'10342'}, {u'authorNames': u'        \\n    <span class=\"author-names\">    Wang J, Barstein J, Ethridge LE, Mosconi MW, Takarae Y and Sweeney JA</span>\\n    ', u'bibliograhyTitle': u'<p>Resting state EEG abnormalities in autism spectrum disorders</p>', u'doi': u'10.1186/1866-1955-5-24', u'longCitation': u'<em>Journal of Neurodevelopmental Disorders</em> 2013, <strong>5</strong>:24', u'imageUrl': u'/content/figures/1866-1955-5-24-toc.gif', u'blurbText': u'', u'isHighlyAccessed': u'true', u'status': u'LIVE', u'articleFullUrl': u'http://www.jneurodevdisorders.com/content/5/1/24', u'abstractPath': u'http://www.jneurodevdisorders.com/content/5/1/24/abstract', u'isFree': u'true', u'blurbTitle': u'', u'published Date': u'2013-09-16', u'arxId': u'1866-1955-5-24', u'isOpenAccess': u'true', u'articleUrl': u'/content/5/1/24', u'type': u'review', u'journal Id': u'10271'}, {u'authorNames': u'        \\n    <span class=\"author-names\">    Duffy FH, Shankardass A, McAnulty GB and Als H</span>\\n    ', u'bibliograhyTitle': u'<p>The relationship of Asperger&#8217;s syndrome to autism: a preliminary EEG coherence study</p>', u'doi': u'10.1186/1741-7015-11-175', u'longCitation': u'<em>BMC Medicine</em> 2013, <strong>11</strong>:175', u'imageUrl': u'/content/figures/1741-7015-11-175-toc.gif', u'blurbText': u\"<p>EEG-derived measures of brain connectivity show that Asperger's syndrome and autism in children are closely related, but there are neurophysiological differences between the groups, suggesting that Asperger&rsquo;s should be considered a separate entity.</p>\", u'isHighlyAccessed': u'true', u'status': u'LIVE', u'articleFullUrl': u'http://www.biomedcentral.com/1741-7015/11/175', u'abstractPath': u'http://www.biomedcentral.com/1741-7015/11/175/abstract', u'isFree': u'true', u'blurbTitle': u'EEG discriminates Asperger&#39;s from autism', u'published Date': u'2013-07-31', u'arxId': u'1741-7015-11-175', u'isOpenAccess': u'true', u'articleUrl': u'/1741-7015/11/175', u'type': u'research article', u'journal Id': u'2999'}, {u'authorNames': u'        \\n    <span class=\"author-names\">        Mould AW, Pang Z, Pakusch M, Tonks ID, Stark M, Carrie D, Mukhopadhyay P, Seidel A <em>et al.</em></span>\\n    ', u'bibliograhyTitle': u'<p>Smchd1 regulates a subset of autosomal genes subject to monoallelic expression in addition to being critical for X inactivation</p>', u'doi': u'10.1186/1756-8935-6-19', u'longCitation': u'<em>Epigenetics & Chromatin</em> 2013, <strong>6</strong>:19', u'imageUrl': u'/content/figures/1756-8935-6-19-toc.gif', u'blurbText': u'', u'isHighlyAccessed': u'false', u'status': u'LIVE', u'articleFullUrl': u'http://www.epigeneticsandchromatin.com/content/6/1/19', u'abstractPath': u'http://www.epigeneticsandchromatin.com/content/6/1/19/abstract', u'isFree': u'true', u'blurbTitle': u'', u'published Date': u'2013-07-02', u'arxId': u'1756-8935-6-19', u'isOpenAccess': u'true', u'articleUrl': u'/content/6/1/19', u'type': u'research', u'journal Id': u'10154'}, {u'authorNames': u'        \\n    <span class=\"author-names\">        Soorya L, Kolevzon A, Zweifach J, Lim T, Dobry Y, Schwartz L, Frank Y, Wang AT <em>et al.</em></span>\\n    ', u'bibliograhyTitle': u'<p>Prospective investigation of autism and genotype-phenotype correlations in 22q13 deletion syndrome and <it>SHANK3</it> deficiency</p>', u'doi': u'10.1186/2040-2392-4-18', u'longCitation': u'<em>Molecular Autism</em> 2013, <strong>4</strong>:18', u'imageUrl': u'/content/figures/2040-2392-4-18-toc.gif', u'blurbText': u'', u'isHighlyAccessed': u'false', u'status': u'LIVE', u'articleFullUrl': u'http://www.molecularautism.com/content/4/1/18', u'abstractPath': u'http://www.molecularautism.com/content/4/1/18/abstract', u'isFree': u'true', u'blurbTitle': u'', u'published Date': u'2013-06-11', u'arxId': u'2040-2392-4-18', u'isOpenAccess': u'true', u'articleUrl': u'/content/4/1/18', u'type': u'research', u'journal Id': u'10181'}, {u'authorNames': u'        \\n    <span class=\"author-names\">    Volkmar FR and Reichow B</span>\\n    ', u'bibliograhyTitle': u'<p>Autism in DSM-5: progress and challenges</p>', u'doi': u'10.1186/2040-2392-4-13', u'longCitation': u'<em>Molecular Autism</em> 2013, <strong>4</strong>:13', u'imageUrl': u'/content/figures/2040-2392-4-13-toc.gif', u'blurbText': u'', u'isHighlyAccessed': u'false', u'status': u'LIVE', u'articleFullUrl': u'http://www.molecularautism.com/content/4/1/13', u'abstractPath': u'http://www.molecularautism.com/content/4/1/13/abstract', u'isFree': u'true', u'blurbTitle': u'', u'published Date': u'2013-05-15', u'arxId': u'2040-2392-4-13', u'isOpenAccess': u'true', u'articleUrl': u'/content/4/1/13', u'type': u'review', u'journal Id': u'10181'}]}\n"
       ]
      }
     ],
     "prompt_number": 7
    },
    {
     "cell_type": "code",
     "collapsed": false,
     "input": [
      "biomed_list=biomed_data['entries']\n",
      "num_articles= len(biomed_list)"
     ],
     "language": "python",
     "metadata": {},
     "outputs": [],
     "prompt_number": 8
    },
    {
     "cell_type": "code",
     "collapsed": false,
     "input": [
      "for i in range(1,num_articles):\n",
      "    print biomed_list[i]['bibliograhyTitle']\n",
      "    print biomed_list[i]['authorNames']\n",
      "    print"
     ],
     "language": "python",
     "metadata": {},
     "outputs": [
      {
       "output_type": "stream",
       "stream": "stdout",
       "text": [
        "<p>Autism spectrum disorder and low vitamin D at birth: a sibling control study</p>\n",
        "        \n",
        "    <span class=\"author-names\">    Fernell E, Bejerot S, Westerlund J, Miniscalco C, Simila H, Eyles D, Gillberg C and Humble MB</span>\n",
        "    \n",
        "\n",
        "<p>There is variability in the attainment of developmental milestones in the CDKL5 disorder</p>\n",
        "        \n",
        "    <span class=\"author-names\">    Fehr S, Leonard H, Ho G, Williams S, de Klerk N, Forbes D, Christodoulou J and Downs J</span>\n",
        "    \n",
        "\n",
        "<p>A pilot controlled trial of insulin-like growth factor-1 in children with Phelan-McDermid syndrome</p>\n",
        "        \n",
        "    <span class=\"author-names\">        Kolevzon A, Bush L, Wang AT, Halpern D, Frank Y, Grodberg D, Rapaport R, Tavassoli T <em>et al.</em></span>\n",
        "    \n",
        "\n",
        "<p>Large cryptic genomic rearrangements with apparently normal karyotypes detected by array-CGH</p>\n",
        "        \n",
        "    <span class=\"author-names\">        Di Gregorio E, Savin E, Biamino E, Belligni EF, Naretto VG, D\u2019Alessandro G, Gai G, Fiocchi F <em>et al.</em></span>\n",
        "    \n",
        "\n",
        "<p>Cfp1 is required for gene expression-dependent H3K4 trimethylation and H3K9 acetylation in embryonic stem cells</p>\n",
        "        \n",
        "    <span class=\"author-names\">    Clouaire T, Webb S and Bird A</span>\n",
        "    \n",
        "\n",
        "<p>Alpha-lipoic acid as a pleiotropic compound with potential therapeutic use in diabetes and other chronic diseases</p>\n",
        "        \n",
        "    <span class=\"author-names\">    Gomes MB and Negrato CA</span>\n",
        "    \n",
        "\n",
        "<p>Developmental delay in Rett syndrome: data from the natural history study</p>\n",
        "        \n",
        "    <span class=\"author-names\">        Neul JL, Lane JB, Lee HS, Geerts S, Barrish JO, Annese F, Baggett LMN, Barnes K <em>et al.</em></span>\n",
        "    \n",
        "\n",
        "<p>Impairment of translation in neurons as a putative causative factor for autism</p>\n",
        "        \n",
        "    <span class=\"author-names\">    Poliakov E, Koonin EV and Rogozin IB</span>\n",
        "    \n",
        "\n",
        "<p>A non-syndromic intellectual disability associated with a <it>de novo</it> microdeletion at 7q and 18p, microduplication at Xp, and 18q partial trisomy detected using chromosomal microarray analysis approach</p>\n",
        "        \n",
        "    <span class=\"author-names\">        Pinto IP, Minasi LB, da Cruz AS, de Melo AV, da Cruz e Cunha DM, Pereira RR, Ribeiro CL, da Silva CC <em>et al.</em></span>\n",
        "    \n",
        "\n",
        "<p>The prospect of molecular therapy for Angelman syndrome and other monogenic neurologic disorders</p>\n",
        "        \n",
        "    <span class=\"author-names\">    Bailus BJ and Segal DJ</span>\n",
        "    \n",
        "\n",
        "<p>\n",
        "<it>De Novo</it> variants in the <it>KMT2A</it> (<it>MLL</it>) gene causing atypical Wiedemann-Steiner syndrome in two unrelated individuals identified by clinical exome sequencing</p>\n",
        "        \n",
        "    <span class=\"author-names\">        Strom SP, Lozano R, Lee H, Dorrani N, Mann J, O\u2019Lague PF, Mans N, Deignan JL <em>et al.</em></span>\n",
        "    \n",
        "\n",
        "<p>Assessment of a targeted resequencing assay as a support tool in the diagnosis of lysosomal storage disorders</p>\n",
        "        \n",
        "    <span class=\"author-names\">        Fern\u00e1ndez-Marmiesse A, Morey M, Pineda M, Eiris J, Couce ML, Castro-Gago M, Fraga JM, Lacerda L <em>et al.</em></span>\n",
        "    \n",
        "\n",
        "<p>Clinical features and gene mutational spectrum of <it>CDKL5</it>-related diseases in a cohort of Chinese patients</p>\n",
        "        \n",
        "    <span class=\"author-names\">        Zhao Y, Zhang X, Bao X, Zhang Q, Zhang J, Cao G, Zhang J, Li J <em>et al.</em></span>\n",
        "    \n",
        "\n",
        "<p>Association study in siblings and case-controls of serotonin- and oxytocin-related genes with high functioning autism</p>\n",
        "        \n",
        "    <span class=\"author-names\">    Nyffeler J, Walitza S, Bobrowski E, Gundelfinger R and Gr\u00fcnblatt E</span>\n",
        "    \n",
        "\n",
        "<p>Heterozygous FA2H mutations in autism spectrum disorders</p>\n",
        "        \n",
        "    <span class=\"author-names\">        Scheid I, Maruani A, Huguet G, Leblond CS, Nygren G, Anckars\u00e4ter H, Beggiato A, Rastam M <em>et al.</em></span>\n",
        "    \n",
        "\n",
        "<p>Xq28 (MECP2) microdeletions are common in mutation-negative females with Rett syndrome and cause mild subtypes of the disease</p>\n",
        "        \n",
        "    <span class=\"author-names\">    Iourov IY, Vorsanova SG, Voinova VY, Kurinnaia OS, Zelenova MA, Demidova IA and Yurov YB</span>\n",
        "    \n",
        "\n",
        "<p>Targeted exome sequencing for mitochondrial disorders reveals high genetic heterogeneity</p>\n",
        "        \n",
        "    <span class=\"author-names\">    DaRe JT, Vasta V, Penn J, Tran NTB and Hahn SH</span>\n",
        "    \n",
        "\n",
        "<p>Sustained, neuron-specific IKK/NF-&#954;B activation generates a selective neuroinflammatory response promoting local neurodegeneration with aging</p>\n",
        "        \n",
        "    <span class=\"author-names\">    Maqbool A, Lattke M, Wirth T and Baumann B</span>\n",
        "    \n",
        "\n",
        "<p>Role of conserved <it>cis</it>-regulatory elements in the post-transcriptional regulation of the human MECP2 gene involved in autism</p>\n",
        "        \n",
        "    <span class=\"author-names\">    Bagga JS and D\u2019Antonio LA</span>\n",
        "    \n",
        "\n",
        "<p>Resting state EEG abnormalities in autism spectrum disorders</p>\n",
        "        \n",
        "    <span class=\"author-names\">    Wang J, Barstein J, Ethridge LE, Mosconi MW, Takarae Y and Sweeney JA</span>\n",
        "    \n",
        "\n",
        "<p>The relationship of Asperger&#8217;s syndrome to autism: a preliminary EEG coherence study</p>\n",
        "        \n",
        "    <span class=\"author-names\">    Duffy FH, Shankardass A, McAnulty GB and Als H</span>\n",
        "    \n",
        "\n",
        "<p>Smchd1 regulates a subset of autosomal genes subject to monoallelic expression in addition to being critical for X inactivation</p>\n",
        "        \n",
        "    <span class=\"author-names\">        Mould AW, Pang Z, Pakusch M, Tonks ID, Stark M, Carrie D, Mukhopadhyay P, Seidel A <em>et al.</em></span>\n",
        "    \n",
        "\n",
        "<p>Prospective investigation of autism and genotype-phenotype correlations in 22q13 deletion syndrome and <it>SHANK3</it> deficiency</p>\n",
        "        \n",
        "    <span class=\"author-names\">        Soorya L, Kolevzon A, Zweifach J, Lim T, Dobry Y, Schwartz L, Frank Y, Wang AT <em>et al.</em></span>\n",
        "    \n",
        "\n",
        "<p>Autism in DSM-5: progress and challenges</p>\n",
        "        \n",
        "    <span class=\"author-names\">    Volkmar FR and Reichow B</span>\n",
        "    \n",
        "\n"
       ]
      }
     ],
     "prompt_number": 9
    },
    {
     "cell_type": "code",
     "collapsed": false,
     "input": [
      "print js.dumps(biomed_data['entries'][0], indent=1)"
     ],
     "language": "python",
     "metadata": {},
     "outputs": [
      {
       "output_type": "stream",
       "stream": "stdout",
       "text": [
        "{\n",
        " \"authorNames\": \"        \\n    <span class=\\\"author-names\\\">        Wegiel J, Flory M, Kuchna I, Nowicki K, Ma SY, Imaki H, Wegiel J, Frackowiak J <em>et al.</em></span>\\n    \", \n",
        " \"bibliograhyTitle\": \"<p>Neuronal nucleus and cytoplasm volume deficit in children with autism and volume increase in adolescents and adults</p>\", \n",
        " \"doi\": \"10.1186/s40478-015-0183-5\", \n",
        " \"longCitation\": \"<em>Acta Neuropathologica Communications</em> 2015, <strong>3</strong>:2\", \n",
        " \"imageUrl\": \"/content/figures/s40478-015-0183-5-toc.gif\", \n",
        " \"blurbText\": \"\", \n",
        " \"isHighlyAccessed\": \"false\", \n",
        " \"status\": \"LIVE\", \n",
        " \"articleFullUrl\": \"http://www.actaneurocomms.org/content/3/1/2\", \n",
        " \"abstractPath\": \"http://www.actaneurocomms.org/content/3/1/2/abstract\", \n",
        " \"isFree\": \"true\", \n",
        " \"blurbTitle\": \"\", \n",
        " \"published Date\": \"2015-01-17\", \n",
        " \"arxId\": \"s40478-015-0183-5\", \n",
        " \"isOpenAccess\": \"true\", \n",
        " \"articleUrl\": \"/content/3/1/2\", \n",
        " \"type\": \"research article\", \n",
        " \"journal Id\": \"10386\"\n",
        "}\n"
       ]
      }
     ],
     "prompt_number": 10
    },
    {
     "cell_type": "code",
     "collapsed": false,
     "input": [
      "print biomed_data['entries'][0]['authorNames']"
     ],
     "language": "python",
     "metadata": {},
     "outputs": [
      {
       "output_type": "stream",
       "stream": "stdout",
       "text": [
        "        \n",
        "    <span class=\"author-names\">        Wegiel J, Flory M, Kuchna I, Nowicki K, Ma SY, Imaki H, Wegiel J, Frackowiak J <em>et al.</em></span>\n",
        "    \n"
       ]
      }
     ],
     "prompt_number": 11
    },
    {
     "cell_type": "code",
     "collapsed": false,
     "input": [],
     "language": "python",
     "metadata": {},
     "outputs": [],
     "prompt_number": 12
    },
    {
     "cell_type": "code",
     "collapsed": false,
     "input": [],
     "language": "python",
     "metadata": {},
     "outputs": []
    }
   ],
   "metadata": {}
  }
 ]
}