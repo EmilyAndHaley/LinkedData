{
 "metadata": {
  "name": ""
 },
 "nbformat": 3,
 "nbformat_minor": 0,
 "worksheets": [
  {
   "cells": [
    {
     "cell_type": "code",
     "collapsed": false,
     "input": [
      "from xml.dom import minidom\n",
      "datadir='../../Dictionaries/Orphadata/DiseasesWithTheirClinicalSigns/'\n",
      "xd=minidom.parse(datadir+'en_product4.xml')"
     ],
     "language": "python",
     "metadata": {},
     "outputs": [],
     "prompt_number": 1
    },
    {
     "cell_type": "code",
     "collapsed": false,
     "input": [
      "xd.childNodes"
     ],
     "language": "python",
     "metadata": {},
     "outputs": [
      {
       "metadata": {},
       "output_type": "pyout",
       "prompt_number": 2,
       "text": [
        "[<DOM Element: JDBOR at 0x7f6bf8189c68>]"
       ]
      }
     ],
     "prompt_number": 2
    },
    {
     "cell_type": "code",
     "collapsed": false,
     "input": [
      "disorders=xd.getElementsByTagName(\"Disorder\")"
     ],
     "language": "python",
     "metadata": {},
     "outputs": [],
     "prompt_number": 3
    },
    {
     "cell_type": "code",
     "collapsed": false,
     "input": [
      "len(disorders)"
     ],
     "language": "python",
     "metadata": {},
     "outputs": [
      {
       "metadata": {},
       "output_type": "pyout",
       "prompt_number": 4,
       "text": [
        "6826"
       ]
      }
     ],
     "prompt_number": 4
    },
    {
     "cell_type": "code",
     "collapsed": false,
     "input": [
      "def printDisorderData(disorder):\n",
      "    print disorder.getAttribute('id')\n",
      "    print disorder.getElementsByTagName(\"OrphaNumber\")[0].childNodes[0].nodeValue\n",
      "    signs=disorder.getElementsByTagName('DisorderSign')\n",
      "    print len(signs)\n",
      "    \n",
      "    for sign in signs:\n",
      "        printSign(sign)\n",
      "        print\n",
      "   "
     ],
     "language": "python",
     "metadata": {},
     "outputs": [],
     "prompt_number": 26
    },
    {
     "cell_type": "code",
     "collapsed": false,
     "input": [
      "def printSign(sign):\n",
      "    clinicalSign=sign.getElementsByTagName(\"ClinicalSign\")[0]\n",
      "    \n",
      "    print clinicalSign.getAttribute('id')\n",
      "    print clinicalSign.getElementsByTagName(\"Name\")[0].childNodes[0].nodeValue\n",
      "    \n",
      "    frequency=sign.getElementsByTagName(\"SignFreq\")[0]\n",
      "    print frequency.getElementsByTagName(\"Name\")[0].childNodes[0].nodeValue\n",
      "    "
     ],
     "language": "python",
     "metadata": {},
     "outputs": [],
     "prompt_number": 27
    },
    {
     "cell_type": "code",
     "collapsed": false,
     "input": [
      "printDisorderData(disorders[0])"
     ],
     "language": "python",
     "metadata": {},
     "outputs": [
      {
       "output_type": "stream",
       "stream": "stdout",
       "text": [
        "17601\n",
        "166024\n",
        "18\n",
        "2040\n",
        "Macrocephaly/macrocrania/megalocephaly/megacephaly\n",
        "Very frequent\n",
        "\n",
        "2640\n",
        "Frontal bossing/prominent forehead\n",
        "Very frequent\n",
        "\n",
        "3320\n",
        "Hypertelorism\n",
        "Very frequent\n",
        "\n",
        "3580\n",
        "Flat cheek bones/malar hypoplasia\n",
        "Very frequent\n",
        "\n",
        "13040\n",
        "Low set ears/posteriorly rotated ears\n",
        "Very frequent\n",
        "\n",
        "14150\n",
        "Short neck\n",
        "Very frequent\n",
        "\n",
        "15680\n",
        "Pectus excavatum\n",
        "Very frequent\n",
        "\n",
        "20340\n",
        "Spindle shaped fingers\n",
        "Very frequent\n",
        "\n",
        "20440\n",
        "Syndactyly of fingers/interdigital palm\n",
        "Very frequent\n",
        "\n",
        "20640\n",
        "Clinodactyly of fingers 1,2,3,4/overlapping fingers\n",
        "Very frequent\n",
        "\n",
        "21440\n",
        "Genu valgum\n",
        "Very frequent\n",
        "\n",
        "45750\n",
        "Epiphyseal anomaly\n",
        "Very frequent\n",
        "\n",
        "46120\n",
        "Osteoarthritis\n",
        "Very frequent\n",
        "\n",
        "46280\n",
        "Joint/articular deformation\n",
        "Very frequent\n",
        "\n",
        "52120\n",
        "Autosomal recessive inheritance\n",
        "Very frequent\n",
        "\n",
        "42420\n",
        "Cortical atrophy without hydrocephaly/cerebral hemiatrophy/subcortical atrophy\n",
        "Frequent\n",
        "\n",
        "42630\n",
        "Corpus callosum/septum pellucidum total/partial agenesis\n",
        "Frequent\n",
        "\n",
        "53100\n",
        "Generalized obesity\n",
        "Frequent\n",
        "\n"
       ]
      }
     ],
     "prompt_number": 28
    },
    {
     "cell_type": "code",
     "collapsed": false,
     "input": [
      "import networkx as nx"
     ],
     "language": "python",
     "metadata": {},
     "outputs": [],
     "prompt_number": 30
    },
    {
     "cell_type": "code",
     "collapsed": false,
     "input": [],
     "language": "python",
     "metadata": {},
     "outputs": [],
     "prompt_number": 32
    },
    {
     "cell_type": "code",
     "collapsed": false,
     "input": [],
     "language": "python",
     "metadata": {},
     "outputs": [],
     "prompt_number": 32
    },
    {
     "cell_type": "code",
     "collapsed": false,
     "input": [],
     "language": "python",
     "metadata": {},
     "outputs": [],
     "prompt_number": 32
    },
    {
     "cell_type": "code",
     "collapsed": false,
     "input": [],
     "language": "python",
     "metadata": {},
     "outputs": []
    }
   ],
   "metadata": {}
  }
 ]
}