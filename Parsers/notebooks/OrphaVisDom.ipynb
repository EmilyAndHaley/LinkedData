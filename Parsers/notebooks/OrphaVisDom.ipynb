{
 "metadata": {
  "name": "",
  "signature": "sha256:c3844129b90e63fb25946e029d2021ebb9a96b08402a5c2acce91142021710af"
 },
 "nbformat": 3,
 "nbformat_minor": 0,
 "worksheets": [
  {
   "cells": [
    {
     "cell_type": "code",
     "collapsed": false,
     "input": [
      "from xml.dom import minidom\n",
      "xd=minidom.parse('../../Dictionaries/Orphadata/DiseasesWithTheirClinicalSigns/en_product4.xml')"
     ],
     "language": "python",
     "metadata": {},
     "outputs": [],
     "prompt_number": 72
    },
    {
     "cell_type": "code",
     "collapsed": false,
     "input": [
      "xd.childNodes"
     ],
     "language": "python",
     "metadata": {},
     "outputs": [
      {
       "metadata": {},
       "output_type": "pyout",
       "prompt_number": 73,
       "text": [
        "[<DOM Element: JDBOR at 0x4de7e2d8>]"
       ]
      }
     ],
     "prompt_number": 73
    },
    {
     "cell_type": "code",
     "collapsed": false,
     "input": [
      "disorders=xd.getElementsByTagName(\"Disorder\")\n",
      "print len(disorders)\n",
      "\n",
      "clinicalsigns=xd.getElementsByTagName(\"ClinicalSign\")\n",
      "print len(clinicalsigns)\n",
      "\n",
      "cs=clinicalsigns[0]\n",
      "\n",
      "at=cs.getAttribute('id')\n",
      "\n",
      "newsigns=[cs for cs in clinicalsigns if int(cs.getAttribute('id'))==2040]\n",
      "\n",
      "len(newsigns)"
     ],
     "language": "python",
     "metadata": {},
     "outputs": [
      {
       "output_type": "stream",
       "stream": "stdout",
       "text": [
        "6826\n",
        "50765"
       ]
      },
      {
       "output_type": "stream",
       "stream": "stdout",
       "text": [
        "\n"
       ]
      },
      {
       "metadata": {},
       "output_type": "pyout",
       "prompt_number": 71,
       "text": [
        "155"
       ]
      }
     ],
     "prompt_number": 71
    },
    {
     "cell_type": "code",
     "collapsed": false,
     "input": [
      "parenter=newsigns[0].parentNode\n",
      "print parenter\n",
      "\n",
      "parenter=parenter.parentNode\n",
      "print parenter\n",
      "\n",
      "parenter=parenter.parentNode\n",
      "print parenter\n",
      "\n",
      "name=parenter.getElementsByTagName('Name')[0]\n",
      "\n",
      "print name.childNodes[0].nodeValue"
     ],
     "language": "python",
     "metadata": {},
     "outputs": [
      {
       "output_type": "stream",
       "stream": "stdout",
       "text": [
        "<DOM Element: DisorderSign at 0x1b8ac20>\n",
        "<DOM Element: DisorderSignList at 0x1b8aa28>\n",
        "<DOM Element: Disorder at 0x1b8a488>\n",
        "Multiple epiphyseal dysplasia, Al-Gazali type\n"
       ]
      }
     ],
     "prompt_number": 65
    },
    {
     "cell_type": "code",
     "collapsed": false,
     "input": [
      "print disorders[0].localName\n",
      "print len(disorders)"
     ],
     "language": "python",
     "metadata": {},
     "outputs": [
      {
       "output_type": "stream",
       "stream": "stdout",
       "text": [
        "Disorder\n",
        "6826\n"
       ]
      }
     ],
     "prompt_number": 66
    },
    {
     "cell_type": "code",
     "collapsed": false,
     "input": [],
     "language": "python",
     "metadata": {},
     "outputs": []
    },
    {
     "cell_type": "code",
     "collapsed": false,
     "input": [
      "test=disorders[0].childNodes[0]\n",
      "print disorders[0].nodeName"
     ],
     "language": "python",
     "metadata": {},
     "outputs": [
      {
       "output_type": "stream",
       "stream": "stdout",
       "text": [
        "Disorder\n"
       ]
      }
     ],
     "prompt_number": 5
    },
    {
     "cell_type": "code",
     "collapsed": false,
     "input": [
      "for child in disorders[0].childNodes:\n",
      "    print child.nodeName"
     ],
     "language": "python",
     "metadata": {},
     "outputs": [
      {
       "output_type": "stream",
       "stream": "stdout",
       "text": [
        "#text\n",
        "OrphaNumber\n",
        "#text\n",
        "Name\n",
        "#text\n",
        "DisorderSignList\n",
        "#text\n"
       ]
      }
     ],
     "prompt_number": 6
    },
    {
     "cell_type": "code",
     "collapsed": false,
     "input": [
      "signlist=disorders[0].getElementsByTagName('DisorderSignList')"
     ],
     "language": "python",
     "metadata": {},
     "outputs": [],
     "prompt_number": 7
    },
    {
     "cell_type": "code",
     "collapsed": false,
     "input": [
      "#for child in signlist[0].childNodes:\n",
      "#    print child.nodeName\n",
      "\n",
      "sign=signlist[0].childNodes[1]\n",
      "print sign\n",
      "\n",
      "disorderSigns=signlist[0].getElementsByTagName('DisorderSign')\n",
      "clinicalSigns=signlist[0].getElementsByTagName('ClinicalSign')\n",
      "\n",
      "for cs in clinicalSigns:\n",
      "    print cs.getAttribute('id')\n",
      "    name=cs.getElementsByTagName('Name')\n",
      "    print name[0].childNodes[0].nodeValue"
     ],
     "language": "python",
     "metadata": {},
     "outputs": [
      {
       "output_type": "stream",
       "stream": "stdout",
       "text": [
        "<DOM Element: DisorderSign at 0x1b8ac20>\n",
        "2040\n",
        "Macrocephaly/macrocrania/megalocephaly/megacephaly\n",
        "2640\n",
        "Frontal bossing/prominent forehead\n",
        "3320\n",
        "Hypertelorism\n",
        "3580\n",
        "Flat cheek bones/malar hypoplasia\n",
        "13040\n",
        "Low set ears/posteriorly rotated ears\n",
        "14150\n",
        "Short neck\n",
        "15680\n",
        "Pectus excavatum\n",
        "20340\n",
        "Spindle shaped fingers\n",
        "20440\n",
        "Syndactyly of fingers/interdigital palm\n",
        "20640\n",
        "Clinodactyly of fingers 1,2,3,4/overlapping fingers\n",
        "21440\n",
        "Genu valgum\n",
        "45750\n",
        "Epiphyseal anomaly\n",
        "46120\n",
        "Osteoarthritis\n",
        "46280\n",
        "Joint/articular deformation\n",
        "52120\n",
        "Autosomal recessive inheritance\n",
        "42420\n",
        "Cortical atrophy without hydrocephaly/cerebral hemiatrophy/subcortical atrophy\n",
        "42630\n",
        "Corpus callosum/septum pellucidum total/partial agenesis\n",
        "53100\n",
        "Generalized obesity\n"
       ]
      }
     ],
     "prompt_number": 31
    },
    {
     "cell_type": "code",
     "collapsed": false,
     "input": [
      "dir(signs[0])"
     ],
     "language": "python",
     "metadata": {},
     "outputs": [
      {
       "metadata": {},
       "output_type": "pyout",
       "prompt_number": 91,
       "text": [
        "['ATTRIBUTE_NODE',\n",
        " 'CDATA_SECTION_NODE',\n",
        " 'COMMENT_NODE',\n",
        " 'DOCUMENT_FRAGMENT_NODE',\n",
        " 'DOCUMENT_NODE',\n",
        " 'DOCUMENT_TYPE_NODE',\n",
        " 'ELEMENT_NODE',\n",
        " 'ENTITY_NODE',\n",
        " 'ENTITY_REFERENCE_NODE',\n",
        " 'NOTATION_NODE',\n",
        " 'PROCESSING_INSTRUCTION_NODE',\n",
        " 'TEXT_NODE',\n",
        " '__doc__',\n",
        " '__init__',\n",
        " '__module__',\n",
        " '__nonzero__',\n",
        " '__repr__',\n",
        " '_attrs',\n",
        " '_attrsNS',\n",
        " '_call_user_data_handler',\n",
        " '_child_node_types',\n",
        " '_get_attributes',\n",
        " '_get_childNodes',\n",
        " '_get_firstChild',\n",
        " '_get_lastChild',\n",
        " '_get_localName',\n",
        " '_get_tagName',\n",
        " '_magic_id_nodes',\n",
        " 'appendChild',\n",
        " 'attributes',\n",
        " 'childNodes',\n",
        " 'cloneNode',\n",
        " 'firstChild',\n",
        " 'getAttribute',\n",
        " 'getAttributeNS',\n",
        " 'getAttributeNode',\n",
        " 'getAttributeNodeNS',\n",
        " 'getElementsByTagName',\n",
        " 'getElementsByTagNameNS',\n",
        " 'getInterface',\n",
        " 'getUserData',\n",
        " 'hasAttribute',\n",
        " 'hasAttributeNS',\n",
        " 'hasAttributes',\n",
        " 'hasChildNodes',\n",
        " 'insertBefore',\n",
        " 'isSameNode',\n",
        " 'isSupported',\n",
        " 'lastChild',\n",
        " 'localName',\n",
        " 'namespaceURI',\n",
        " 'nextSibling',\n",
        " 'nodeName',\n",
        " 'nodeType',\n",
        " 'nodeValue',\n",
        " 'normalize',\n",
        " 'ownerDocument',\n",
        " 'parentNode',\n",
        " 'prefix',\n",
        " 'previousSibling',\n",
        " 'removeAttribute',\n",
        " 'removeAttributeNS',\n",
        " 'removeAttributeNode',\n",
        " 'removeAttributeNodeNS',\n",
        " 'removeChild',\n",
        " 'replaceChild',\n",
        " 'schemaType',\n",
        " 'setAttribute',\n",
        " 'setAttributeNS',\n",
        " 'setAttributeNode',\n",
        " 'setAttributeNodeNS',\n",
        " 'setIdAttribute',\n",
        " 'setIdAttributeNS',\n",
        " 'setIdAttributeNode',\n",
        " 'setUserData',\n",
        " 'tagName',\n",
        " 'toprettyxml',\n",
        " 'toxml',\n",
        " 'unlink',\n",
        " 'writexml']"
       ]
      }
     ],
     "prompt_number": 91
    },
    {
     "cell_type": "code",
     "collapsed": false,
     "input": [
      "print sign.nodeName\n",
      "\n",
      "for child in sign.childNodes:\n",
      "    print child.nodeName"
     ],
     "language": "python",
     "metadata": {},
     "outputs": [
      {
       "output_type": "stream",
       "stream": "stdout",
       "text": [
        "#text\n"
       ]
      }
     ],
     "prompt_number": 76
    },
    {
     "cell_type": "code",
     "collapsed": false,
     "input": [
      "dir(sign)"
     ],
     "language": "python",
     "metadata": {},
     "outputs": [
      {
       "metadata": {},
       "output_type": "pyout",
       "prompt_number": 71,
       "text": [
        "['ATTRIBUTE_NODE',\n",
        " 'CDATA_SECTION_NODE',\n",
        " 'COMMENT_NODE',\n",
        " 'DOCUMENT_FRAGMENT_NODE',\n",
        " 'DOCUMENT_NODE',\n",
        " 'DOCUMENT_TYPE_NODE',\n",
        " 'ELEMENT_NODE',\n",
        " 'ENTITY_NODE',\n",
        " 'ENTITY_REFERENCE_NODE',\n",
        " 'NOTATION_NODE',\n",
        " 'PROCESSING_INSTRUCTION_NODE',\n",
        " 'TEXT_NODE',\n",
        " '__doc__',\n",
        " '__len__',\n",
        " '__module__',\n",
        " '__nonzero__',\n",
        " '__repr__',\n",
        " '__setattr__',\n",
        " '_call_user_data_handler',\n",
        " '_get_childNodes',\n",
        " '_get_data',\n",
        " '_get_firstChild',\n",
        " '_get_isWhitespaceInElementContent',\n",
        " '_get_lastChild',\n",
        " '_get_length',\n",
        " '_get_localName',\n",
        " '_get_nodeValue',\n",
        " '_get_wholeText',\n",
        " '_set_data',\n",
        " '_set_nodeValue',\n",
        " 'appendChild',\n",
        " 'appendData',\n",
        " 'attributes',\n",
        " 'childNodes',\n",
        " 'cloneNode',\n",
        " 'data',\n",
        " 'deleteData',\n",
        " 'firstChild',\n",
        " 'getInterface',\n",
        " 'getUserData',\n",
        " 'hasChildNodes',\n",
        " 'insertBefore',\n",
        " 'insertData',\n",
        " 'isSameNode',\n",
        " 'isSupported',\n",
        " 'isWhitespaceInElementContent',\n",
        " 'lastChild',\n",
        " 'length',\n",
        " 'localName',\n",
        " 'namespaceURI',\n",
        " 'nextSibling',\n",
        " 'nodeName',\n",
        " 'nodeType',\n",
        " 'nodeValue',\n",
        " 'normalize',\n",
        " 'ownerDocument',\n",
        " 'parentNode',\n",
        " 'prefix',\n",
        " 'previousSibling',\n",
        " 'removeChild',\n",
        " 'replaceChild',\n",
        " 'replaceData',\n",
        " 'replaceWholeText',\n",
        " 'setUserData',\n",
        " 'splitText',\n",
        " 'substringData',\n",
        " 'toprettyxml',\n",
        " 'toxml',\n",
        " 'unlink',\n",
        " 'wholeText',\n",
        " 'writexml']"
       ]
      }
     ],
     "prompt_number": 71
    },
    {
     "cell_type": "code",
     "collapsed": false,
     "input": [],
     "language": "python",
     "metadata": {},
     "outputs": []
    }
   ],
   "metadata": {}
  }
 ]
}