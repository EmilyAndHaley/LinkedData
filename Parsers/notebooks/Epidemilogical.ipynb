{
 "metadata": {
  "name": ""
 },
 "nbformat": 3,
 "nbformat_minor": 0,
 "worksheets": [
  {
   "cells": [
    {
     "cell_type": "code",
     "collapsed": false,
     "input": [
      "from xml.dom import minidom\n",
      "datadir='../../Dictionaries/Orphadata/EpidemiologicalData/'\n",
      "xd=minidom.parse(datadir+'en_product2.xml')"
     ],
     "language": "python",
     "metadata": {},
     "outputs": [],
     "prompt_number": 154
    },
    {
     "cell_type": "code",
     "collapsed": false,
     "input": [
      "xd.childNodes"
     ],
     "language": "python",
     "metadata": {},
     "outputs": [
      {
       "metadata": {},
       "output_type": "pyout",
       "prompt_number": 155,
       "text": [
        "[<DOM Element: JDBOR at 0x7f81afd922d8>]"
       ]
      }
     ],
     "prompt_number": 155
    },
    {
     "cell_type": "code",
     "collapsed": false,
     "input": [
      "disorders=xd.getElementsByTagName(\"Disorder\")"
     ],
     "language": "python",
     "metadata": {},
     "outputs": [],
     "prompt_number": 156
    },
    {
     "cell_type": "code",
     "collapsed": false,
     "input": [
      "len(disorders)"
     ],
     "language": "python",
     "metadata": {},
     "outputs": [
      {
       "metadata": {},
       "output_type": "pyout",
       "prompt_number": 157,
       "text": [
        "6826"
       ]
      }
     ],
     "prompt_number": 157
    },
    {
     "cell_type": "code",
     "collapsed": false,
     "input": [
      "def printDisorderData(disorder):\n",
      "    print disorder.getAttribute('id')\n",
      "    print disorder.getElementsByTagName(\"OrphaNumber\")[0].childNodes[0].nodeValue\n",
      "    print disorder.getElementsByTagName(\"ExpertLink\")[0].childNodes[0].nodeValue\n",
      "    print disorder.getElementsByTagName(\"Name\")[0].childNodes[0].nodeValue\n",
      "    \n",
      "    classOfPrevalence=disorder.getElementsByTagName(\"ClassOfPrevalence\")[0].getElementsByTagName('Name')\n",
      "    \n",
      "    if len(classOfPrevalence)>0:\n",
      "        print classOfPrevalence[0].childNodes[0].nodeValue\n",
      "        \n",
      "    averageAgeOfOnset= disorder.getElementsByTagName(\"AverageAgeOfOnset\")[0].getElementsByTagName('Name')\n",
      "    \n",
      "    if len(averageAgeOfOnset)>0:\n",
      "        print averageAgeOfOnset[0].childNodes[0].nodeValue\n",
      "        \n",
      "    averageAgeOfDeath= disorder.getElementsByTagName(\"AverageAgeOfDeath\")[0].getElementsByTagName('Name')\n",
      "    \n",
      "    if len(averageAgeOfDeath)>0:\n",
      "        print averageAgeOfDeath[0].childNodes[0].nodeValue"
     ],
     "language": "python",
     "metadata": {},
     "outputs": [],
     "prompt_number": 158
    },
    {
     "cell_type": "code",
     "collapsed": false,
     "input": [
      "printDisorderData(disorders[0])"
     ],
     "language": "python",
     "metadata": {},
     "outputs": [
      {
       "output_type": "stream",
       "stream": "stdout",
       "text": [
        "17601\n",
        "166024\n",
        "http://www.orpha.net/consor/cgi-bin/OC_Exp.php?lng=en&Expert=166024\n",
        "Multiple epiphyseal dysplasia, Al-Gazali type\n",
        "<1 / 1 000 000\n",
        "Neonatal/infancy\n"
       ]
      }
     ],
     "prompt_number": 159
    },
    {
     "cell_type": "code",
     "collapsed": false,
     "input": [
      "printDisorderData(disorders[1])"
     ],
     "language": "python",
     "metadata": {},
     "outputs": [
      {
       "output_type": "stream",
       "stream": "stdout",
       "text": [
        "17603\n",
        "166032\n",
        "http://www.orpha.net/consor/cgi-bin/OC_Exp.php?lng=en&Expert=166032\n",
        "Multiple epiphyseal dysplasia, with miniepiphyses\n"
       ]
      }
     ],
     "prompt_number": 160
    },
    {
     "cell_type": "code",
     "collapsed": false,
     "input": [
      "import xlwt"
     ],
     "language": "python",
     "metadata": {},
     "outputs": [],
     "prompt_number": 161
    },
    {
     "cell_type": "code",
     "collapsed": false,
     "input": [
      "def writeTextToExcel(ws, i, j, text):\n",
      "    ws.write(i, j, text)\n",
      "    return j+1"
     ],
     "language": "python",
     "metadata": {},
     "outputs": [],
     "prompt_number": 162
    },
    {
     "cell_type": "code",
     "collapsed": false,
     "input": [
      "def getPrevalenceRank(text):\n",
      "    text=str(text)\n",
      "    if text=='<1 / 1 000 000':\n",
      "        return 1\n",
      "    if text=='1-9 / 1 000 000':\n",
      "        return 2\n",
      "    if text=='1-9 / 100 000':\n",
      "        return 3\n",
      "    if text=='1-5 / 10 000':\n",
      "        return 4\n",
      "    if text=='6-9 / 10 000':\n",
      "        return 5\n",
      "    if text=='>1 / 1000':\n",
      "        return 6\n",
      "    if text=='Unknown':\n",
      "        return 7\n",
      "    if text=='No data available':\n",
      "        return 8"
     ],
     "language": "python",
     "metadata": {},
     "outputs": [],
     "prompt_number": 171
    },
    {
     "cell_type": "code",
     "collapsed": false,
     "input": [
      "def disorderDataToExcel(disorder, ws, i):\n",
      "    j=writeTextToExcel(ws, i, 0, disorder.getElementsByTagName(\"Name\")[0].childNodes[0].nodeValue)\n",
      "    j=writeTextToExcel(ws, i, j, disorder.getAttribute('id'))\n",
      "    j=writeTextToExcel(ws, i, j, disorder.getElementsByTagName(\"OrphaNumber\")[0].childNodes[0].nodeValue)\n",
      "    \n",
      "    classOfPrevalence=disorder.getElementsByTagName(\"ClassOfPrevalence\")[0].getElementsByTagName('Name')\n",
      "    \n",
      "    if len(classOfPrevalence)>0:\n",
      "        text = classOfPrevalence[0].childNodes[0].nodeValue\n",
      "    else:\n",
      "        text = \"Unknown\"\n",
      "    j=writeTextToExcel(ws, i, j, text)\n",
      "    \n",
      "    j=writeTextToExcel(ws, i, j, str(getPrevalenceRank(text)))\n",
      "        \n",
      "    averageAgeOfOnset= disorder.getElementsByTagName(\"AverageAgeOfOnset\")[0].getElementsByTagName('Name')\n",
      "    \n",
      "    if len(averageAgeOfOnset)>0:\n",
      "        text= averageAgeOfOnset[0].childNodes[0].nodeValue\n",
      "    else:\n",
      "        text= \"\"\n",
      "    j=writeTextToExcel(ws, i, j, text)\n",
      "       \n",
      "    averageAgeOfDeath= disorder.getElementsByTagName(\"AverageAgeOfDeath\")[0].getElementsByTagName('Name')\n",
      "    \n",
      "    if len(averageAgeOfDeath)>0:\n",
      "        text= averageAgeOfDeath[0].childNodes[0].nodeValue\n",
      "    else:\n",
      "        text=\"\"\n",
      "    j=writeTextToExcel(ws, i, j, text)\n",
      "    \n",
      "    \n",
      "    j=writeTextToExcel(ws, i, j, disorder.getElementsByTagName(\"ExpertLink\")[0].childNodes[0].nodeValue)\n",
      "    "
     ],
     "language": "python",
     "metadata": {},
     "outputs": [],
     "prompt_number": 172
    },
    {
     "cell_type": "code",
     "collapsed": false,
     "input": [
      "wb = xlwt.Workbook()\n",
      "ws = wb.add_sheet(\"sheet\")\n",
      "#for i in range(0,10):\n",
      " #   for j in range (0,10):\n",
      "  #      ws.write(i, j, i*j)\n",
      "\n",
      "ws.write(0, 0, 'Name of Disorder')\n",
      "ws.col(0).width = 256*80\n",
      "\n",
      "ws.write(0, 1, 'id')\n",
      "ws.write(0, 2, 'Orpha Number')\n",
      "\n",
      "ws.write(0, 3, 'Prevalence')\n",
      "ws.col(3).width = 256*20\n",
      "\n",
      "ws.write(0, 4, 'Prevalence rank')\n",
      "ws.col(4).width = 256*20\n",
      "\n",
      "ws.write(0, 5, 'Average age of onset')\n",
      "ws.col(5).width = 256*20\n",
      "\n",
      "ws.write(0, 6, 'Average age of death')\n",
      "ws.col(6).width = 256*20\n",
      "\n",
      "ws.write(0, 7, 'Expert Link')\n",
      "ws.col(7).width = 256*80\n",
      "\n",
      "j=1\n",
      "for disorder in disorders:\n",
      "    disorderDataToExcel(disorder, ws, j)\n",
      "    j=j+1\n",
      "\n",
      "wb.save(datadir+\"en_product2.xls\")"
     ],
     "language": "python",
     "metadata": {},
     "outputs": [],
     "prompt_number": 173
    },
    {
     "cell_type": "code",
     "collapsed": false,
     "input": [
      "prevalenceList=[]\n",
      "\n",
      "for disorder in disorders:\n",
      "   \n",
      "    classOfPrevalence=disorder.getElementsByTagName(\"ClassOfPrevalence\")[0].getElementsByTagName('Name')\n",
      "   \n",
      "    if len(classOfPrevalence)>0:\n",
      "        text = classOfPrevalence[0].childNodes[0].nodeValue\n",
      "    else:\n",
      "        text = \"Unknown\"\n",
      "    prevalenceList.append(text)\n",
      "\n",
      "prevalenceSet=set(prevalenceList)\n",
      "    \n",
      "    \n"
     ],
     "language": "python",
     "metadata": {},
     "outputs": [],
     "prompt_number": 166
    },
    {
     "cell_type": "code",
     "collapsed": false,
     "input": [
      "from pprint import pprint\n"
     ],
     "language": "python",
     "metadata": {},
     "outputs": [],
     "prompt_number": 167
    },
    {
     "cell_type": "code",
     "collapsed": false,
     "input": [
      "pprint(prevalenceSet)"
     ],
     "language": "python",
     "metadata": {},
     "outputs": [
      {
       "output_type": "stream",
       "stream": "stdout",
       "text": [
        "set([u'1-5 / 10 000',\n",
        "     u'1-9 / 1 000 000',\n",
        "     u'1-9 / 100 000',\n",
        "     u'6-9 / 10 000',\n",
        "     u'<1 / 1 000 000',\n",
        "     u'>1 / 1000',\n",
        "     u'No data available',\n",
        "     'Unknown'])\n"
       ]
      }
     ],
     "prompt_number": 168
    }
   ],
   "metadata": {}
  }
 ]
}