{
 "metadata": {
  "name": ""
 },
 "nbformat": 3,
 "nbformat_minor": 0,
 "worksheets": [
  {
   "cells": [
    {
     "cell_type": "code",
     "collapsed": false,
     "input": [
      "from xml.dom import minidom\n",
      "datadir='../../Dictionaries/Orphadata/EpidemiologicalData/'\n",
      "xd=minidom.parse(datadir+'en_product2.xml')"
     ],
     "language": "python",
     "metadata": {},
     "outputs": [],
     "prompt_number": 129
    },
    {
     "cell_type": "code",
     "collapsed": false,
     "input": [
      "xd.childNodes"
     ],
     "language": "python",
     "metadata": {},
     "outputs": [
      {
       "metadata": {},
       "output_type": "pyout",
       "prompt_number": 2,
       "text": [
        "[<DOM Element: JDBOR at 0x7f81dc1a8b48>]"
       ]
      }
     ],
     "prompt_number": 2
    },
    {
     "cell_type": "code",
     "collapsed": false,
     "input": [
      "disorders=xd.getElementsByTagName(\"Disorder\")"
     ],
     "language": "python",
     "metadata": {},
     "outputs": [],
     "prompt_number": 3
    },
    {
     "cell_type": "code",
     "collapsed": false,
     "input": [
      "len(disorders)"
     ],
     "language": "python",
     "metadata": {},
     "outputs": [
      {
       "metadata": {},
       "output_type": "pyout",
       "prompt_number": 4,
       "text": [
        "6826"
       ]
      }
     ],
     "prompt_number": 4
    },
    {
     "cell_type": "code",
     "collapsed": false,
     "input": [
      "def printDisorderData(disorder):\n",
      "    print disorder.getAttribute('id')\n",
      "    print disorder.getElementsByTagName(\"OrphaNumber\")[0].childNodes[0].nodeValue\n",
      "    print disorder.getElementsByTagName(\"ExpertLink\")[0].childNodes[0].nodeValue\n",
      "    print disorder.getElementsByTagName(\"Name\")[0].childNodes[0].nodeValue\n",
      "    \n",
      "    classOfPrevalence=disorder.getElementsByTagName(\"ClassOfPrevalence\")[0].getElementsByTagName('Name')\n",
      "    \n",
      "    if len(classOfPrevalence)>0:\n",
      "        print classOfPrevalence[0].childNodes[0].nodeValue\n",
      "        \n",
      "    averageAgeOfOnset= disorder.getElementsByTagName(\"AverageAgeOfOnset\")[0].getElementsByTagName('Name')\n",
      "    \n",
      "    if len(averageAgeOfOnset)>0:\n",
      "        print averageAgeOfOnset[0].childNodes[0].nodeValue\n",
      "        \n",
      "    averageAgeOfDeath= disorder.getElementsByTagName(\"AverageAgeOfDeath\")[0].getElementsByTagName('Name')\n",
      "    \n",
      "    if len(averageAgeOfDeath)>0:\n",
      "        print averageAgeOfDeath[0].childNodes[0].nodeValue"
     ],
     "language": "python",
     "metadata": {},
     "outputs": [],
     "prompt_number": 75
    },
    {
     "cell_type": "code",
     "collapsed": false,
     "input": [
      "printDisorderData(disorders[0])"
     ],
     "language": "python",
     "metadata": {},
     "outputs": [
      {
       "output_type": "stream",
       "stream": "stdout",
       "text": [
        "17601\n",
        "166024\n",
        "http://www.orpha.net/consor/cgi-bin/OC_Exp.php?lng=en&Expert=166024\n",
        "Multiple epiphyseal dysplasia, Al-Gazali type\n",
        "<1 / 1 000 000\n",
        "Neonatal/infancy\n"
       ]
      }
     ],
     "prompt_number": 76
    },
    {
     "cell_type": "code",
     "collapsed": false,
     "input": [
      "printDisorderData(disorders[1])"
     ],
     "language": "python",
     "metadata": {},
     "outputs": [
      {
       "output_type": "stream",
       "stream": "stdout",
       "text": [
        "17603\n",
        "166032\n",
        "http://www.orpha.net/consor/cgi-bin/OC_Exp.php?lng=en&Expert=166032\n",
        "Multiple epiphyseal dysplasia, with miniepiphyses\n"
       ]
      }
     ],
     "prompt_number": 77
    },
    {
     "cell_type": "code",
     "collapsed": false,
     "input": [
      "import xlwt"
     ],
     "language": "python",
     "metadata": {},
     "outputs": [],
     "prompt_number": 79
    },
    {
     "cell_type": "code",
     "collapsed": false,
     "input": [
      "def writeTextToExcel(ws, i, j, text):\n",
      "    ws.write(i, j, text)\n",
      "    return j+1"
     ],
     "language": "python",
     "metadata": {},
     "outputs": [],
     "prompt_number": 108
    },
    {
     "cell_type": "code",
     "collapsed": false,
     "input": [
      "def disorderDataToExcel(disorder, ws, i):\n",
      "    j=writeTextToExcel(ws, i, 0, disorder.getElementsByTagName(\"Name\")[0].childNodes[0].nodeValue)\n",
      "    j=writeTextToExcel(ws, i, j, disorder.getAttribute('id'))\n",
      "    j=writeTextToExcel(ws, i, j, disorder.getElementsByTagName(\"OrphaNumber\")[0].childNodes[0].nodeValue)\n",
      "    \n",
      "    classOfPrevalence=disorder.getElementsByTagName(\"ClassOfPrevalence\")[0].getElementsByTagName('Name')\n",
      "    \n",
      "    if len(classOfPrevalence)>0:\n",
      "        text = classOfPrevalence[0].childNodes[0].nodeValue\n",
      "    else:\n",
      "        text = \"\"\n",
      "    j=writeTextToExcel(ws, i, j, text)\n",
      "        \n",
      "    averageAgeOfOnset= disorder.getElementsByTagName(\"AverageAgeOfOnset\")[0].getElementsByTagName('Name')\n",
      "    \n",
      "    if len(averageAgeOfOnset)>0:\n",
      "        text= averageAgeOfOnset[0].childNodes[0].nodeValue\n",
      "    else:\n",
      "        text= \"\"\n",
      "    j=writeTextToExcel(ws, i, j, text)\n",
      "       \n",
      "    averageAgeOfDeath= disorder.getElementsByTagName(\"AverageAgeOfDeath\")[0].getElementsByTagName('Name')\n",
      "    \n",
      "    if len(averageAgeOfDeath)>0:\n",
      "        text= averageAgeOfDeath[0].childNodes[0].nodeValue\n",
      "    else:\n",
      "        text=\"\"\n",
      "    j=writeTextToExcel(ws, i, j, text)\n",
      "    \n",
      "    \n",
      "    j=writeTextToExcel(ws, i, j, disorder.getElementsByTagName(\"ExpertLink\")[0].childNodes[0].nodeValue)\n",
      "    "
     ],
     "language": "python",
     "metadata": {},
     "outputs": [],
     "prompt_number": 118
    },
    {
     "cell_type": "code",
     "collapsed": false,
     "input": [
      "wb = xlwt.Workbook()\n",
      "ws = wb.add_sheet(\"sheet\")\n",
      "#for i in range(0,10):\n",
      " #   for j in range (0,10):\n",
      "  #      ws.write(i, j, i*j)\n",
      "\n",
      "ws.write(0, 0, 'Name of Disorder')\n",
      "ws.col(0).width = 256*80\n",
      "\n",
      "ws.write(0, 1, 'id')\n",
      "ws.write(0, 2, 'Orpha Number')\n",
      "\n",
      "ws.write(0, 3, 'Prevalence')\n",
      "ws.col(3).width = 256*20\n",
      "\n",
      "ws.write(0, 4, 'Average age of onset')\n",
      "ws.col(4).width = 256*20\n",
      "\n",
      "ws.write(0, 5, 'Average age of death')\n",
      "ws.col(5).width = 256*20\n",
      "\n",
      "ws.write(0, 6, 'Expert Link')\n",
      "ws.col(6).width = 256*80\n",
      "\n",
      "j=1\n",
      "for disorder in disorders:\n",
      "    disorderDataToExcel(disorder, ws, j)\n",
      "    j=j+1\n",
      "\n",
      "wb.save(datadir+\"en_product2.xls\")"
     ],
     "language": "python",
     "metadata": {},
     "outputs": [],
     "prompt_number": 130
    },
    {
     "cell_type": "code",
     "collapsed": false,
     "input": [],
     "language": "python",
     "metadata": {},
     "outputs": []
    }
   ],
   "metadata": {}
  }
 ]
}